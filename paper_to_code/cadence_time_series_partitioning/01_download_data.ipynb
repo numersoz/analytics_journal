{
 "cells": [
  {
   "cell_type": "markdown",
   "metadata": {},
   "source": [
    "# Dataset\n",
    "\n",
    "### Data Source Name: Occupancy Detection\n",
    "### Source URL: https://archive.ics.uci.edu/dataset/357/occupancy+detection\n",
    "### Description:\n",
    "\n",
    "\"Experimental data used for binary classification (room occupancy) from Temperature,Humidity,Light and CO2. Ground-truth occupancy was obtained from time stamped pictures that were taken every minute.\n",
    "\n",
    "Three data sets are submitted, for training and testing. Ground-truth occupancy was obtained from time stamped pictures that were taken every minute.\n",
    "For the journal publication, the processing R scripts can be found in:\n",
    "https://github.com/LuisM78/Occupancy-detection-data\n",
    "\"\n",
    "\n",
    "### Columns\n",
    "\n",
    "date: time year-month-day hour:minute:second\n",
    "\n",
    "Temperature: Celsius\n",
    "\n",
    "Relative Humidity: %\n",
    "\n",
    "Light: Lux \n",
    "\n",
    "CO2: ppm\n",
    "\n",
    "Humidity Ratio: Derived quantity from temperature and relative humidity, in kgwater-vapor/kg-air\n",
    "\n",
    "Occupancy: 0 or 1, 0 for not occupied, 1 for occupied status"
   ]
  },
  {
   "cell_type": "code",
   "execution_count": 4,
   "metadata": {},
   "outputs": [],
   "source": [
    "import requests\n",
    "import zipfile\n",
    "import os"
   ]
  },
  {
   "cell_type": "code",
   "execution_count": 5,
   "metadata": {},
   "outputs": [],
   "source": [
    "url = \"https://archive.ics.uci.edu/static/public/357/occupancy+detection.zip\"\n",
    "response = requests.get(url)\n",
    "download_path = \"data/raw/occupancy_detection.zip\"\n",
    "\n",
    "with open(download_path, \"wb\") as file:\n",
    "    file.write(response.content)\n",
    "\n",
    "with zipfile.ZipFile(download_path, \"r\") as zip_file:\n",
    "    zip_file.extractall(\"data/raw/occupancy_detection\")"
   ]
  }
 ],
 "metadata": {
  "kernelspec": {
   "display_name": ".venv",
   "language": "python",
   "name": "python3"
  },
  "language_info": {
   "codemirror_mode": {
    "name": "ipython",
    "version": 3
   },
   "file_extension": ".py",
   "mimetype": "text/x-python",
   "name": "python",
   "nbconvert_exporter": "python",
   "pygments_lexer": "ipython3",
   "version": "3.10.11"
  }
 },
 "nbformat": 4,
 "nbformat_minor": 2
}
