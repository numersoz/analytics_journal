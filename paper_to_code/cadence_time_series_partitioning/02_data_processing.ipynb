{
 "cells": [
  {
   "cell_type": "code",
   "execution_count": 29,
   "metadata": {},
   "outputs": [],
   "source": [
    "import pandas as pd"
   ]
  },
  {
   "cell_type": "code",
   "execution_count": 30,
   "metadata": {},
   "outputs": [],
   "source": [
    "data_test = pd.read_csv(\"data/raw/occupancy_detection/datatest.txt\")\n",
    "data_test_2 = pd.read_csv(\"data/raw/occupancy_detection/datatest2.txt\")\n",
    "data_train = pd.read_csv(\"data/raw/occupancy_detection/datatraining.txt\")"
   ]
  },
  {
   "cell_type": "code",
   "execution_count": 31,
   "metadata": {},
   "outputs": [],
   "source": [
    "# Rename columns and drop ratio_humidity as its drived from temperature and humidity\n",
    "mapping = {\n",
    "  \"date\": \"dtm\",\n",
    "  \"Temperature\": \"temp\",\n",
    "  \"Humidity\": \"humidity\",\n",
    "  \"Light\": \"light\",\n",
    "  \"CO2\": \"co2\",\n",
    "  \"HumidityRatio\": \"ratio_humidity\",\n",
    "  \"Occupancy\": \"occupancy\"\n",
    "}\n",
    "\n",
    "data_test = data_test.rename(columns = mapping).drop(\"ratio_humidity\", axis = 1)\n",
    "data_test_2 = data_test_2.rename(columns = mapping).drop(\"ratio_humidity\", axis = 1)\n",
    "data_train = data_train.rename(columns = mapping).drop(\"ratio_humidity\", axis = 1)"
   ]
  },
  {
   "cell_type": "code",
   "execution_count": 32,
   "metadata": {},
   "outputs": [],
   "source": [
    "# Cast dtm as timestamp:\n",
    "data_test[\"dtm\"] = pd.to_datetime(data_test[\"dtm\"])\n",
    "data_test_2[\"dtm\"] = pd.to_datetime(data_test_2[\"dtm\"])\n",
    "data_train[\"dtm\"] = pd.to_datetime(data_train[\"dtm\"])"
   ]
  },
  {
   "cell_type": "code",
   "execution_count": 33,
   "metadata": {},
   "outputs": [
    {
     "name": "stdout",
     "output_type": "stream",
     "text": [
      "<class 'pandas.core.frame.DataFrame'>\n",
      "Index: 2665 entries, 140 to 2804\n",
      "Data columns (total 6 columns):\n",
      " #   Column     Non-Null Count  Dtype         \n",
      "---  ------     --------------  -----         \n",
      " 0   dtm        2665 non-null   datetime64[ns]\n",
      " 1   temp       2665 non-null   float64       \n",
      " 2   humidity   2665 non-null   float64       \n",
      " 3   light      2665 non-null   float64       \n",
      " 4   co2        2665 non-null   float64       \n",
      " 5   occupancy  2665 non-null   int64         \n",
      "dtypes: datetime64[ns](1), float64(4), int64(1)\n",
      "memory usage: 145.7 KB\n"
     ]
    }
   ],
   "source": [
    "data_test.info()"
   ]
  },
  {
   "cell_type": "code",
   "execution_count": 34,
   "metadata": {},
   "outputs": [
    {
     "name": "stdout",
     "output_type": "stream",
     "text": [
      "<class 'pandas.core.frame.DataFrame'>\n",
      "Index: 9752 entries, 1 to 9752\n",
      "Data columns (total 6 columns):\n",
      " #   Column     Non-Null Count  Dtype         \n",
      "---  ------     --------------  -----         \n",
      " 0   dtm        9752 non-null   datetime64[ns]\n",
      " 1   temp       9752 non-null   float64       \n",
      " 2   humidity   9752 non-null   float64       \n",
      " 3   light      9752 non-null   float64       \n",
      " 4   co2        9752 non-null   float64       \n",
      " 5   occupancy  9752 non-null   int64         \n",
      "dtypes: datetime64[ns](1), float64(4), int64(1)\n",
      "memory usage: 533.3 KB\n"
     ]
    }
   ],
   "source": [
    "data_test_2.info()"
   ]
  },
  {
   "cell_type": "code",
   "execution_count": 35,
   "metadata": {},
   "outputs": [
    {
     "name": "stdout",
     "output_type": "stream",
     "text": [
      "<class 'pandas.core.frame.DataFrame'>\n",
      "Index: 8143 entries, 1 to 8143\n",
      "Data columns (total 6 columns):\n",
      " #   Column     Non-Null Count  Dtype         \n",
      "---  ------     --------------  -----         \n",
      " 0   dtm        8143 non-null   datetime64[ns]\n",
      " 1   temp       8143 non-null   float64       \n",
      " 2   humidity   8143 non-null   float64       \n",
      " 3   light      8143 non-null   float64       \n",
      " 4   co2        8143 non-null   float64       \n",
      " 5   occupancy  8143 non-null   int64         \n",
      "dtypes: datetime64[ns](1), float64(4), int64(1)\n",
      "memory usage: 445.3 KB\n"
     ]
    }
   ],
   "source": [
    "data_train.info()"
   ]
  },
  {
   "cell_type": "code",
   "execution_count": 36,
   "metadata": {},
   "outputs": [],
   "source": [
    "# Save preprocessed data:\n",
    "data_test.to_parquet(\"data/processed/data_test.parquet\", index = False)\n",
    "data_test_2.to_parquet(\"data/processed/data_test_2.parquet\", index = False)\n",
    "data_train.to_parquet(\"data/processed/data_train.parquet\", index = False)"
   ]
  }
 ],
 "metadata": {
  "kernelspec": {
   "display_name": ".venv",
   "language": "python",
   "name": "python3"
  },
  "language_info": {
   "codemirror_mode": {
    "name": "ipython",
    "version": 3
   },
   "file_extension": ".py",
   "mimetype": "text/x-python",
   "name": "python",
   "nbconvert_exporter": "python",
   "pygments_lexer": "ipython3",
   "version": "3.10.11"
  }
 },
 "nbformat": 4,
 "nbformat_minor": 2
}
