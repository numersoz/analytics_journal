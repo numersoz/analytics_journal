{
 "cells": [
  {
   "cell_type": "code",
   "execution_count": 2,
   "metadata": {},
   "outputs": [],
   "source": [
    "import pandas as pd\n",
    "import numpy as np"
   ]
  },
  {
   "cell_type": "code",
   "execution_count": 3,
   "metadata": {},
   "outputs": [],
   "source": [
    "# Load data:\n",
    "generation_data_1 = pd.read_csv(\"data/raw/Plant_1_Generation_Data.csv\")\n",
    "generation_data_2 = pd.read_csv(\"data/raw/Plant_2_Generation_Data.csv\")\n",
    "weather_data_1 = pd.read_csv(\"data/raw/Plant_1_Weather_Sensor_Data.csv\")\n",
    "weather_data_2 = pd.read_csv(\"data/raw/Plant_2_Weather_Sensor_Data.csv\")"
   ]
  },
  {
   "cell_type": "code",
   "execution_count": 4,
   "metadata": {},
   "outputs": [
    {
     "name": "stderr",
     "output_type": "stream",
     "text": [
      "C:\\Users\\nmert\\AppData\\Local\\Temp\\ipykernel_16048\\4217505130.py:2: UserWarning: Parsing dates in %d-%m-%Y %H:%M format when dayfirst=False (the default) was specified. Pass `dayfirst=True` or specify a format to silence this warning.\n",
      "  generation_data_1[\"DATE_TIME\"] = pd.to_datetime(generation_data_1.DATE_TIME)\n"
     ]
    }
   ],
   "source": [
    "# Format timestamp:\n",
    "generation_data_1[\"DATE_TIME\"] = pd.to_datetime(generation_data_1.DATE_TIME)\n",
    "generation_data_2[\"DATE_TIME\"] = pd.to_datetime(generation_data_2.DATE_TIME)\n",
    "weather_data_1[\"DATE_TIME\"] = pd.to_datetime(weather_data_1.DATE_TIME)\n",
    "weather_data_2[\"DATE_TIME\"] = pd.to_datetime(weather_data_2.DATE_TIME)"
   ]
  },
  {
   "cell_type": "code",
   "execution_count": 5,
   "metadata": {},
   "outputs": [],
   "source": [
    "generation_data_1[\"SOURCE_KEY\"] = generation_data_1[\"SOURCE_KEY\"].astype(\"category\")\n",
    "generation_data_2[\"SOURCE_KEY\"] = generation_data_2[\"SOURCE_KEY\"].astype(\"category\")\n",
    "weather_data_1[\"SOURCE_KEY\"] = weather_data_1[\"SOURCE_KEY\"].astype(\"category\")\n",
    "weather_data_2[\"SOURCE_KEY\"] = weather_data_2[\"SOURCE_KEY\"].astype(\"category\")"
   ]
  },
  {
   "cell_type": "code",
   "execution_count": 6,
   "metadata": {},
   "outputs": [],
   "source": [
    "# Combine:\n",
    "plant_1 = pd.merge(generation_data_1, weather_data_1.drop(columns=[\"PLANT_ID\", \"SOURCE_KEY\"]), on = \"DATE_TIME\")\n",
    "plant_2 = pd.merge(generation_data_2, weather_data_2.drop(columns=[\"PLANT_ID\",  \"SOURCE_KEY\"]), on = \"DATE_TIME\")\n",
    "data = pd.concat([plant_1, plant_2])"
   ]
  },
  {
   "cell_type": "code",
   "execution_count": 7,
   "metadata": {},
   "outputs": [],
   "source": [
    "# Cast data types:\n",
    "data[\"PLANT_ID\"] = data[\"PLANT_ID\"].astype(\"category\")"
   ]
  },
  {
   "cell_type": "code",
   "execution_count": 8,
   "metadata": {},
   "outputs": [],
   "source": [
    "# Rename columns\n",
    "mapping = {\n",
    "  \"PLANT_ID\": \"plantId\",\n",
    "  \"DATE_TIME\": \"dtm\",\n",
    "  \"SOURCE_KEY\": \"sourceKey\",\n",
    "  \"DC_POWER\": \"pow_dc\",\n",
    "  \"AC_POWER\": \"pow_ac\",\n",
    "  \"DAILY_YIELD\": \"yield_daily\",\n",
    "  \"TOTAL_YIELD\": \"yield_total\",\n",
    "  \"AMBIENT_TEMPERATURE\": \"temp_ambient\",\n",
    "  \"MODULE_TEMPERATURE\": \"temp_module\",\n",
    "  \"IRRADIATION\": \"irradiation\"\n",
    "}\n",
    "\n",
    "data = data.rename(columns = mapping)"
   ]
  },
  {
   "cell_type": "code",
   "execution_count": 9,
   "metadata": {},
   "outputs": [],
   "source": [
    "# Drop duplicate rows:\n",
    "data = data.drop_duplicates()"
   ]
  },
  {
   "cell_type": "code",
   "execution_count": 10,
   "metadata": {},
   "outputs": [],
   "source": [
    "# Calculate local time:\n",
    "data[\"time_local\"] = data[\"dtm\"].dt.hour + data[\"dtm\"].dt.minute / 60"
   ]
  },
  {
   "cell_type": "code",
   "execution_count": 11,
   "metadata": {},
   "outputs": [],
   "source": [
    "# Sort:\n",
    "data = data.sort_values([\"plantId\", \"sourceKey\", \"dtm\"])"
   ]
  },
  {
   "cell_type": "code",
   "execution_count": 12,
   "metadata": {},
   "outputs": [
    {
     "name": "stdout",
     "output_type": "stream",
     "text": [
      "<class 'pandas.core.frame.DataFrame'>\n",
      "Index: 136472 entries, 0 to 67697\n",
      "Data columns (total 11 columns):\n",
      " #   Column        Non-Null Count   Dtype         \n",
      "---  ------        --------------   -----         \n",
      " 0   dtm           136472 non-null  datetime64[ns]\n",
      " 1   plantId       136472 non-null  category      \n",
      " 2   sourceKey     136472 non-null  object        \n",
      " 3   pow_dc        136472 non-null  float64       \n",
      " 4   pow_ac        136472 non-null  float64       \n",
      " 5   yield_daily   136472 non-null  float64       \n",
      " 6   yield_total   136472 non-null  float64       \n",
      " 7   temp_ambient  136472 non-null  float64       \n",
      " 8   temp_module   136472 non-null  float64       \n",
      " 9   irradiation   136472 non-null  float64       \n",
      " 10  time_local    136472 non-null  float64       \n",
      "dtypes: category(1), datetime64[ns](1), float64(8), object(1)\n",
      "memory usage: 11.6+ MB\n"
     ]
    }
   ],
   "source": [
    "data.info()"
   ]
  },
  {
   "cell_type": "code",
   "execution_count": 13,
   "metadata": {},
   "outputs": [
    {
     "data": {
      "text/html": [
       "<div>\n",
       "<style scoped>\n",
       "    .dataframe tbody tr th:only-of-type {\n",
       "        vertical-align: middle;\n",
       "    }\n",
       "\n",
       "    .dataframe tbody tr th {\n",
       "        vertical-align: top;\n",
       "    }\n",
       "\n",
       "    .dataframe thead th {\n",
       "        text-align: right;\n",
       "    }\n",
       "</style>\n",
       "<table border=\"1\" class=\"dataframe\">\n",
       "  <thead>\n",
       "    <tr style=\"text-align: right;\">\n",
       "      <th></th>\n",
       "      <th>dtm</th>\n",
       "      <th>plantId</th>\n",
       "      <th>sourceKey</th>\n",
       "      <th>pow_dc</th>\n",
       "      <th>pow_ac</th>\n",
       "      <th>yield_daily</th>\n",
       "      <th>yield_total</th>\n",
       "      <th>temp_ambient</th>\n",
       "      <th>temp_module</th>\n",
       "      <th>irradiation</th>\n",
       "      <th>time_local</th>\n",
       "    </tr>\n",
       "  </thead>\n",
       "  <tbody>\n",
       "    <tr>\n",
       "      <th>0</th>\n",
       "      <td>2020-05-15 00:00:00</td>\n",
       "      <td>4135001</td>\n",
       "      <td>1BY6WEcLGh8j5v7</td>\n",
       "      <td>0.0</td>\n",
       "      <td>0.0</td>\n",
       "      <td>0.0</td>\n",
       "      <td>6259559.0</td>\n",
       "      <td>25.184316</td>\n",
       "      <td>22.857507</td>\n",
       "      <td>0.0</td>\n",
       "      <td>0.00</td>\n",
       "    </tr>\n",
       "    <tr>\n",
       "      <th>21</th>\n",
       "      <td>2020-05-15 00:15:00</td>\n",
       "      <td>4135001</td>\n",
       "      <td>1BY6WEcLGh8j5v7</td>\n",
       "      <td>0.0</td>\n",
       "      <td>0.0</td>\n",
       "      <td>0.0</td>\n",
       "      <td>6259559.0</td>\n",
       "      <td>25.084589</td>\n",
       "      <td>22.761668</td>\n",
       "      <td>0.0</td>\n",
       "      <td>0.25</td>\n",
       "    </tr>\n",
       "    <tr>\n",
       "      <th>42</th>\n",
       "      <td>2020-05-15 00:30:00</td>\n",
       "      <td>4135001</td>\n",
       "      <td>1BY6WEcLGh8j5v7</td>\n",
       "      <td>0.0</td>\n",
       "      <td>0.0</td>\n",
       "      <td>0.0</td>\n",
       "      <td>6259559.0</td>\n",
       "      <td>24.935753</td>\n",
       "      <td>22.592306</td>\n",
       "      <td>0.0</td>\n",
       "      <td>0.50</td>\n",
       "    </tr>\n",
       "    <tr>\n",
       "      <th>63</th>\n",
       "      <td>2020-05-15 00:45:00</td>\n",
       "      <td>4135001</td>\n",
       "      <td>1BY6WEcLGh8j5v7</td>\n",
       "      <td>0.0</td>\n",
       "      <td>0.0</td>\n",
       "      <td>0.0</td>\n",
       "      <td>6259559.0</td>\n",
       "      <td>24.846130</td>\n",
       "      <td>22.360852</td>\n",
       "      <td>0.0</td>\n",
       "      <td>0.75</td>\n",
       "    </tr>\n",
       "    <tr>\n",
       "      <th>84</th>\n",
       "      <td>2020-05-15 01:00:00</td>\n",
       "      <td>4135001</td>\n",
       "      <td>1BY6WEcLGh8j5v7</td>\n",
       "      <td>0.0</td>\n",
       "      <td>0.0</td>\n",
       "      <td>0.0</td>\n",
       "      <td>6259559.0</td>\n",
       "      <td>24.621525</td>\n",
       "      <td>22.165423</td>\n",
       "      <td>0.0</td>\n",
       "      <td>1.00</td>\n",
       "    </tr>\n",
       "  </tbody>\n",
       "</table>\n",
       "</div>"
      ],
      "text/plain": [
       "                   dtm  plantId        sourceKey  pow_dc  pow_ac  yield_daily  \\\n",
       "0  2020-05-15 00:00:00  4135001  1BY6WEcLGh8j5v7     0.0     0.0          0.0   \n",
       "21 2020-05-15 00:15:00  4135001  1BY6WEcLGh8j5v7     0.0     0.0          0.0   \n",
       "42 2020-05-15 00:30:00  4135001  1BY6WEcLGh8j5v7     0.0     0.0          0.0   \n",
       "63 2020-05-15 00:45:00  4135001  1BY6WEcLGh8j5v7     0.0     0.0          0.0   \n",
       "84 2020-05-15 01:00:00  4135001  1BY6WEcLGh8j5v7     0.0     0.0          0.0   \n",
       "\n",
       "    yield_total  temp_ambient  temp_module  irradiation  time_local  \n",
       "0     6259559.0     25.184316    22.857507          0.0        0.00  \n",
       "21    6259559.0     25.084589    22.761668          0.0        0.25  \n",
       "42    6259559.0     24.935753    22.592306          0.0        0.50  \n",
       "63    6259559.0     24.846130    22.360852          0.0        0.75  \n",
       "84    6259559.0     24.621525    22.165423          0.0        1.00  "
      ]
     },
     "execution_count": 13,
     "metadata": {},
     "output_type": "execute_result"
    }
   ],
   "source": [
    "data.head()"
   ]
  },
  {
   "cell_type": "code",
   "execution_count": 18,
   "metadata": {},
   "outputs": [],
   "source": [
    "# Save preprocessed data:\n",
    "data.to_parquet(\"data/solar_generation.parquet\", index = False)"
   ]
  }
 ],
 "metadata": {
  "kernelspec": {
   "display_name": ".venv",
   "language": "python",
   "name": "python3"
  },
  "language_info": {
   "codemirror_mode": {
    "name": "ipython",
    "version": 3
   },
   "file_extension": ".py",
   "mimetype": "text/x-python",
   "name": "python",
   "nbconvert_exporter": "python",
   "pygments_lexer": "ipython3",
   "version": "3.12.2"
  }
 },
 "nbformat": 4,
 "nbformat_minor": 2
}
