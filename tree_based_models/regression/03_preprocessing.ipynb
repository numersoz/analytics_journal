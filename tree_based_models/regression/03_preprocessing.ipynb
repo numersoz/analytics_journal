{
 "cells": [
  {
   "cell_type": "markdown",
   "metadata": {},
   "source": [
    "# Pre-processing"
   ]
  },
  {
   "cell_type": "code",
   "execution_count": 1,
   "metadata": {},
   "outputs": [
    {
     "name": "stdout",
     "output_type": "stream",
     "text": [
      "Requirement already satisfied: ydata-profiling==4.3.1 in c:\\users\\nmert\\onedrive\\data science\\data science journal\\datascience_journal\\.venv\\lib\\site-packages (4.3.1)\n",
      "Requirement already satisfied: scipy<1.11,>=1.4.1 in c:\\users\\nmert\\onedrive\\data science\\data science journal\\datascience_journal\\.venv\\lib\\site-packages (from ydata-profiling==4.3.1) (1.10.1)\n",
      "Requirement already satisfied: pandas!=1.4.0,<2.1,>1.1 in c:\\users\\nmert\\onedrive\\data science\\data science journal\\datascience_journal\\.venv\\lib\\site-packages (from ydata-profiling==4.3.1) (2.0.3)\n",
      "Requirement already satisfied: matplotlib<4,>=3.2 in c:\\users\\nmert\\onedrive\\data science\\data science journal\\datascience_journal\\.venv\\lib\\site-packages (from ydata-profiling==4.3.1) (3.7.2)\n",
      "Requirement already satisfied: pydantic<2,>=1.8.1 in c:\\users\\nmert\\onedrive\\data science\\data science journal\\datascience_journal\\.venv\\lib\\site-packages (from ydata-profiling==4.3.1) (1.10.11)\n",
      "Requirement already satisfied: PyYAML<6.1,>=5.0.0 in c:\\users\\nmert\\onedrive\\data science\\data science journal\\datascience_journal\\.venv\\lib\\site-packages (from ydata-profiling==4.3.1) (6.0)\n",
      "Requirement already satisfied: jinja2<3.2,>=2.11.1 in c:\\users\\nmert\\onedrive\\data science\\data science journal\\datascience_journal\\.venv\\lib\\site-packages (from ydata-profiling==4.3.1) (3.1.2)\n",
      "Requirement already satisfied: visions[type_image_path]==0.7.5 in c:\\users\\nmert\\onedrive\\data science\\data science journal\\datascience_journal\\.venv\\lib\\site-packages (from ydata-profiling==4.3.1) (0.7.5)\n",
      "Requirement already satisfied: numpy<1.24,>=1.16.0 in c:\\users\\nmert\\onedrive\\data science\\data science journal\\datascience_journal\\.venv\\lib\\site-packages (from ydata-profiling==4.3.1) (1.23.5)\n",
      "Requirement already satisfied: htmlmin==0.1.12 in c:\\users\\nmert\\onedrive\\data science\\data science journal\\datascience_journal\\.venv\\lib\\site-packages (from ydata-profiling==4.3.1) (0.1.12)\n",
      "Requirement already satisfied: phik<0.13,>=0.11.1 in c:\\users\\nmert\\onedrive\\data science\\data science journal\\datascience_journal\\.venv\\lib\\site-packages (from ydata-profiling==4.3.1) (0.12.3)\n",
      "Requirement already satisfied: requests<3,>=2.24.0 in c:\\users\\nmert\\onedrive\\data science\\data science journal\\datascience_journal\\.venv\\lib\\site-packages (from ydata-profiling==4.3.1) (2.31.0)\n",
      "Requirement already satisfied: tqdm<5,>=4.48.2 in c:\\users\\nmert\\onedrive\\data science\\data science journal\\datascience_journal\\.venv\\lib\\site-packages (from ydata-profiling==4.3.1) (4.65.0)\n",
      "Requirement already satisfied: seaborn<0.13,>=0.10.1 in c:\\users\\nmert\\onedrive\\data science\\data science journal\\datascience_journal\\.venv\\lib\\site-packages (from ydata-profiling==4.3.1) (0.12.2)\n",
      "Requirement already satisfied: multimethod<2,>=1.4 in c:\\users\\nmert\\onedrive\\data science\\data science journal\\datascience_journal\\.venv\\lib\\site-packages (from ydata-profiling==4.3.1) (1.9.1)\n",
      "Requirement already satisfied: statsmodels<1,>=0.13.2 in c:\\users\\nmert\\onedrive\\data science\\data science journal\\datascience_journal\\.venv\\lib\\site-packages (from ydata-profiling==4.3.1) (0.14.0)\n",
      "Requirement already satisfied: typeguard<3,>=2.13.2 in c:\\users\\nmert\\onedrive\\data science\\data science journal\\datascience_journal\\.venv\\lib\\site-packages (from ydata-profiling==4.3.1) (2.13.3)\n",
      "Requirement already satisfied: imagehash==4.3.1 in c:\\users\\nmert\\onedrive\\data science\\data science journal\\datascience_journal\\.venv\\lib\\site-packages (from ydata-profiling==4.3.1) (4.3.1)\n",
      "Requirement already satisfied: wordcloud>=1.9.1 in c:\\users\\nmert\\onedrive\\data science\\data science journal\\datascience_journal\\.venv\\lib\\site-packages (from ydata-profiling==4.3.1) (1.9.2)\n",
      "Requirement already satisfied: dacite>=1.8 in c:\\users\\nmert\\onedrive\\data science\\data science journal\\datascience_journal\\.venv\\lib\\site-packages (from ydata-profiling==4.3.1) (1.8.1)\n",
      "Requirement already satisfied: PyWavelets in c:\\users\\nmert\\onedrive\\data science\\data science journal\\datascience_journal\\.venv\\lib\\site-packages (from imagehash==4.3.1->ydata-profiling==4.3.1) (1.4.1)\n",
      "Requirement already satisfied: pillow in c:\\users\\nmert\\onedrive\\data science\\data science journal\\datascience_journal\\.venv\\lib\\site-packages (from imagehash==4.3.1->ydata-profiling==4.3.1) (10.0.0)\n",
      "Requirement already satisfied: attrs>=19.3.0 in c:\\users\\nmert\\onedrive\\data science\\data science journal\\datascience_journal\\.venv\\lib\\site-packages (from visions[type_image_path]==0.7.5->ydata-profiling==4.3.1) (23.1.0)\n",
      "Requirement already satisfied: networkx>=2.4 in c:\\users\\nmert\\onedrive\\data science\\data science journal\\datascience_journal\\.venv\\lib\\site-packages (from visions[type_image_path]==0.7.5->ydata-profiling==4.3.1) (3.1)\n",
      "Requirement already satisfied: tangled-up-in-unicode>=0.0.4 in c:\\users\\nmert\\onedrive\\data science\\data science journal\\datascience_journal\\.venv\\lib\\site-packages (from visions[type_image_path]==0.7.5->ydata-profiling==4.3.1) (0.2.0)\n",
      "Requirement already satisfied: MarkupSafe>=2.0 in c:\\users\\nmert\\onedrive\\data science\\data science journal\\datascience_journal\\.venv\\lib\\site-packages (from jinja2<3.2,>=2.11.1->ydata-profiling==4.3.1) (2.1.3)\n",
      "Requirement already satisfied: contourpy>=1.0.1 in c:\\users\\nmert\\onedrive\\data science\\data science journal\\datascience_journal\\.venv\\lib\\site-packages (from matplotlib<4,>=3.2->ydata-profiling==4.3.1) (1.1.0)\n",
      "Requirement already satisfied: cycler>=0.10 in c:\\users\\nmert\\onedrive\\data science\\data science journal\\datascience_journal\\.venv\\lib\\site-packages (from matplotlib<4,>=3.2->ydata-profiling==4.3.1) (0.11.0)\n",
      "Requirement already satisfied: fonttools>=4.22.0 in c:\\users\\nmert\\onedrive\\data science\\data science journal\\datascience_journal\\.venv\\lib\\site-packages (from matplotlib<4,>=3.2->ydata-profiling==4.3.1) (4.41.0)\n",
      "Requirement already satisfied: kiwisolver>=1.0.1 in c:\\users\\nmert\\onedrive\\data science\\data science journal\\datascience_journal\\.venv\\lib\\site-packages (from matplotlib<4,>=3.2->ydata-profiling==4.3.1) (1.4.4)\n",
      "Requirement already satisfied: packaging>=20.0 in c:\\users\\nmert\\onedrive\\data science\\data science journal\\datascience_journal\\.venv\\lib\\site-packages (from matplotlib<4,>=3.2->ydata-profiling==4.3.1) (23.1)\n",
      "Requirement already satisfied: pyparsing<3.1,>=2.3.1 in c:\\users\\nmert\\onedrive\\data science\\data science journal\\datascience_journal\\.venv\\lib\\site-packages (from matplotlib<4,>=3.2->ydata-profiling==4.3.1) (3.0.9)\n",
      "Requirement already satisfied: python-dateutil>=2.7 in c:\\users\\nmert\\onedrive\\data science\\data science journal\\datascience_journal\\.venv\\lib\\site-packages (from matplotlib<4,>=3.2->ydata-profiling==4.3.1) (2.8.2)\n",
      "Requirement already satisfied: pytz>=2020.1 in c:\\users\\nmert\\onedrive\\data science\\data science journal\\datascience_journal\\.venv\\lib\\site-packages (from pandas!=1.4.0,<2.1,>1.1->ydata-profiling==4.3.1) (2023.3)\n",
      "Requirement already satisfied: tzdata>=2022.1 in c:\\users\\nmert\\onedrive\\data science\\data science journal\\datascience_journal\\.venv\\lib\\site-packages (from pandas!=1.4.0,<2.1,>1.1->ydata-profiling==4.3.1) (2023.3)\n",
      "Requirement already satisfied: joblib>=0.14.1 in c:\\users\\nmert\\onedrive\\data science\\data science journal\\datascience_journal\\.venv\\lib\\site-packages (from phik<0.13,>=0.11.1->ydata-profiling==4.3.1) (1.3.1)\n",
      "Requirement already satisfied: typing-extensions>=4.2.0 in c:\\users\\nmert\\onedrive\\data science\\data science journal\\datascience_journal\\.venv\\lib\\site-packages (from pydantic<2,>=1.8.1->ydata-profiling==4.3.1) (4.7.1)\n",
      "Requirement already satisfied: charset-normalizer<4,>=2 in c:\\users\\nmert\\onedrive\\data science\\data science journal\\datascience_journal\\.venv\\lib\\site-packages (from requests<3,>=2.24.0->ydata-profiling==4.3.1) (3.2.0)\n",
      "Requirement already satisfied: idna<4,>=2.5 in c:\\users\\nmert\\onedrive\\data science\\data science journal\\datascience_journal\\.venv\\lib\\site-packages (from requests<3,>=2.24.0->ydata-profiling==4.3.1) (3.4)\n",
      "Requirement already satisfied: urllib3<3,>=1.21.1 in c:\\users\\nmert\\onedrive\\data science\\data science journal\\datascience_journal\\.venv\\lib\\site-packages (from requests<3,>=2.24.0->ydata-profiling==4.3.1) (2.0.3)\n",
      "Requirement already satisfied: certifi>=2017.4.17 in c:\\users\\nmert\\onedrive\\data science\\data science journal\\datascience_journal\\.venv\\lib\\site-packages (from requests<3,>=2.24.0->ydata-profiling==4.3.1) (2023.5.7)\n",
      "Requirement already satisfied: patsy>=0.5.2 in c:\\users\\nmert\\onedrive\\data science\\data science journal\\datascience_journal\\.venv\\lib\\site-packages (from statsmodels<1,>=0.13.2->ydata-profiling==4.3.1) (0.5.3)\n",
      "Requirement already satisfied: colorama in c:\\users\\nmert\\onedrive\\data science\\data science journal\\datascience_journal\\.venv\\lib\\site-packages (from tqdm<5,>=4.48.2->ydata-profiling==4.3.1) (0.4.6)\n",
      "Requirement already satisfied: six in c:\\users\\nmert\\onedrive\\data science\\data science journal\\datascience_journal\\.venv\\lib\\site-packages (from patsy>=0.5.2->statsmodels<1,>=0.13.2->ydata-profiling==4.3.1) (1.16.0)\n"
     ]
    },
    {
     "name": "stderr",
     "output_type": "stream",
     "text": [
      "\n",
      "[notice] A new release of pip available: 22.3.1 -> 23.2\n",
      "[notice] To update, run: python.exe -m pip install --upgrade pip\n"
     ]
    }
   ],
   "source": [
    "! pip install ydata-profiling==4.3.1"
   ]
  },
  {
   "cell_type": "code",
   "execution_count": 1,
   "metadata": {},
   "outputs": [],
   "source": [
    "import pandas as pd"
   ]
  },
  {
   "cell_type": "code",
   "execution_count": 2,
   "metadata": {},
   "outputs": [],
   "source": [
    "data = pd.read_csv(\"data/regression/insurance.csv\", decimal = \",\")"
   ]
  },
  {
   "cell_type": "code",
   "execution_count": 3,
   "metadata": {},
   "outputs": [
    {
     "data": {
      "text/html": [
       "<div>\n",
       "<style scoped>\n",
       "    .dataframe tbody tr th:only-of-type {\n",
       "        vertical-align: middle;\n",
       "    }\n",
       "\n",
       "    .dataframe tbody tr th {\n",
       "        vertical-align: top;\n",
       "    }\n",
       "\n",
       "    .dataframe thead th {\n",
       "        text-align: right;\n",
       "    }\n",
       "</style>\n",
       "<table border=\"1\" class=\"dataframe\">\n",
       "  <thead>\n",
       "    <tr style=\"text-align: right;\">\n",
       "      <th></th>\n",
       "      <th>age</th>\n",
       "      <th>sex</th>\n",
       "      <th>bmi</th>\n",
       "      <th>children</th>\n",
       "      <th>smoker</th>\n",
       "      <th>region</th>\n",
       "      <th>charges</th>\n",
       "    </tr>\n",
       "  </thead>\n",
       "  <tbody>\n",
       "    <tr>\n",
       "      <th>0</th>\n",
       "      <td>19</td>\n",
       "      <td>female</td>\n",
       "      <td>27.9</td>\n",
       "      <td>0</td>\n",
       "      <td>yes</td>\n",
       "      <td>southwest</td>\n",
       "      <td>16884.924</td>\n",
       "    </tr>\n",
       "    <tr>\n",
       "      <th>1</th>\n",
       "      <td>18</td>\n",
       "      <td>male</td>\n",
       "      <td>33.77</td>\n",
       "      <td>1</td>\n",
       "      <td>no</td>\n",
       "      <td>southeast</td>\n",
       "      <td>1725.5523</td>\n",
       "    </tr>\n",
       "    <tr>\n",
       "      <th>2</th>\n",
       "      <td>28</td>\n",
       "      <td>male</td>\n",
       "      <td>33</td>\n",
       "      <td>3</td>\n",
       "      <td>no</td>\n",
       "      <td>southeast</td>\n",
       "      <td>4449.462</td>\n",
       "    </tr>\n",
       "    <tr>\n",
       "      <th>3</th>\n",
       "      <td>33</td>\n",
       "      <td>male</td>\n",
       "      <td>22.705</td>\n",
       "      <td>0</td>\n",
       "      <td>no</td>\n",
       "      <td>northwest</td>\n",
       "      <td>21984.47061</td>\n",
       "    </tr>\n",
       "    <tr>\n",
       "      <th>4</th>\n",
       "      <td>32</td>\n",
       "      <td>male</td>\n",
       "      <td>28.88</td>\n",
       "      <td>0</td>\n",
       "      <td>no</td>\n",
       "      <td>northwest</td>\n",
       "      <td>3866.8552</td>\n",
       "    </tr>\n",
       "  </tbody>\n",
       "</table>\n",
       "</div>"
      ],
      "text/plain": [
       "   age     sex     bmi  children smoker     region      charges\n",
       "0   19  female    27.9         0    yes  southwest    16884.924\n",
       "1   18    male   33.77         1     no  southeast    1725.5523\n",
       "2   28    male      33         3     no  southeast     4449.462\n",
       "3   33    male  22.705         0     no  northwest  21984.47061\n",
       "4   32    male   28.88         0     no  northwest    3866.8552"
      ]
     },
     "execution_count": 3,
     "metadata": {},
     "output_type": "execute_result"
    }
   ],
   "source": [
    "data.head()"
   ]
  },
  {
   "cell_type": "code",
   "execution_count": 4,
   "metadata": {},
   "outputs": [],
   "source": [
    "# Drop duplicate rows:\n",
    "data = data.drop_duplicates()"
   ]
  },
  {
   "cell_type": "code",
   "execution_count": 5,
   "metadata": {},
   "outputs": [],
   "source": [
    "# One-hot encoding column \"region\":\n",
    "data = pd.get_dummies(data, columns = [\"region\"], dtype = \"int64\")\n",
    "# Map column \"smoker\" to boolean:\n",
    "data[\"smoker\"] = data[\"smoker\"].map({\"yes\": 1, \"no\": 0})\n",
    "# Map column \"sex\" to boolean:\n",
    "data[\"sex\"] = data[\"sex\"].map({\"female\": 1, \"male\": 0})\n",
    "data.head()\n",
    "\n",
    "# Convert bmi and charges to numeric:\n",
    "data[\"bmi\"] = pd.to_numeric(data[\"bmi\"])\n",
    "data[\"charges\"] = pd.to_numeric(data[\"charges\"])"
   ]
  },
  {
   "cell_type": "code",
   "execution_count": 6,
   "metadata": {},
   "outputs": [
    {
     "name": "stdout",
     "output_type": "stream",
     "text": [
      "<class 'pandas.core.frame.DataFrame'>\n",
      "Index: 1337 entries, 0 to 1337\n",
      "Data columns (total 10 columns):\n",
      " #   Column            Non-Null Count  Dtype  \n",
      "---  ------            --------------  -----  \n",
      " 0   age               1337 non-null   int64  \n",
      " 1   sex               1337 non-null   int64  \n",
      " 2   bmi               1337 non-null   float64\n",
      " 3   children          1337 non-null   int64  \n",
      " 4   smoker            1337 non-null   int64  \n",
      " 5   charges           1337 non-null   float64\n",
      " 6   region_northeast  1337 non-null   int64  \n",
      " 7   region_northwest  1337 non-null   int64  \n",
      " 8   region_southeast  1337 non-null   int64  \n",
      " 9   region_southwest  1337 non-null   int64  \n",
      "dtypes: float64(2), int64(8)\n",
      "memory usage: 114.9 KB\n"
     ]
    }
   ],
   "source": [
    "data.info()"
   ]
  },
  {
   "cell_type": "code",
   "execution_count": 7,
   "metadata": {},
   "outputs": [
    {
     "data": {
      "text/html": [
       "<div>\n",
       "<style scoped>\n",
       "    .dataframe tbody tr th:only-of-type {\n",
       "        vertical-align: middle;\n",
       "    }\n",
       "\n",
       "    .dataframe tbody tr th {\n",
       "        vertical-align: top;\n",
       "    }\n",
       "\n",
       "    .dataframe thead th {\n",
       "        text-align: right;\n",
       "    }\n",
       "</style>\n",
       "<table border=\"1\" class=\"dataframe\">\n",
       "  <thead>\n",
       "    <tr style=\"text-align: right;\">\n",
       "      <th></th>\n",
       "      <th>age</th>\n",
       "      <th>sex</th>\n",
       "      <th>bmi</th>\n",
       "      <th>children</th>\n",
       "      <th>smoker</th>\n",
       "      <th>charges</th>\n",
       "      <th>region_northeast</th>\n",
       "      <th>region_northwest</th>\n",
       "      <th>region_southeast</th>\n",
       "      <th>region_southwest</th>\n",
       "    </tr>\n",
       "  </thead>\n",
       "  <tbody>\n",
       "    <tr>\n",
       "      <th>0</th>\n",
       "      <td>19</td>\n",
       "      <td>1</td>\n",
       "      <td>27.900</td>\n",
       "      <td>0</td>\n",
       "      <td>1</td>\n",
       "      <td>16884.92400</td>\n",
       "      <td>0</td>\n",
       "      <td>0</td>\n",
       "      <td>0</td>\n",
       "      <td>1</td>\n",
       "    </tr>\n",
       "    <tr>\n",
       "      <th>1</th>\n",
       "      <td>18</td>\n",
       "      <td>0</td>\n",
       "      <td>33.770</td>\n",
       "      <td>1</td>\n",
       "      <td>0</td>\n",
       "      <td>1725.55230</td>\n",
       "      <td>0</td>\n",
       "      <td>0</td>\n",
       "      <td>1</td>\n",
       "      <td>0</td>\n",
       "    </tr>\n",
       "    <tr>\n",
       "      <th>2</th>\n",
       "      <td>28</td>\n",
       "      <td>0</td>\n",
       "      <td>33.000</td>\n",
       "      <td>3</td>\n",
       "      <td>0</td>\n",
       "      <td>4449.46200</td>\n",
       "      <td>0</td>\n",
       "      <td>0</td>\n",
       "      <td>1</td>\n",
       "      <td>0</td>\n",
       "    </tr>\n",
       "    <tr>\n",
       "      <th>3</th>\n",
       "      <td>33</td>\n",
       "      <td>0</td>\n",
       "      <td>22.705</td>\n",
       "      <td>0</td>\n",
       "      <td>0</td>\n",
       "      <td>21984.47061</td>\n",
       "      <td>0</td>\n",
       "      <td>1</td>\n",
       "      <td>0</td>\n",
       "      <td>0</td>\n",
       "    </tr>\n",
       "    <tr>\n",
       "      <th>4</th>\n",
       "      <td>32</td>\n",
       "      <td>0</td>\n",
       "      <td>28.880</td>\n",
       "      <td>0</td>\n",
       "      <td>0</td>\n",
       "      <td>3866.85520</td>\n",
       "      <td>0</td>\n",
       "      <td>1</td>\n",
       "      <td>0</td>\n",
       "      <td>0</td>\n",
       "    </tr>\n",
       "  </tbody>\n",
       "</table>\n",
       "</div>"
      ],
      "text/plain": [
       "   age  sex     bmi  children  smoker      charges  region_northeast  \\\n",
       "0   19    1  27.900         0       1  16884.92400                 0   \n",
       "1   18    0  33.770         1       0   1725.55230                 0   \n",
       "2   28    0  33.000         3       0   4449.46200                 0   \n",
       "3   33    0  22.705         0       0  21984.47061                 0   \n",
       "4   32    0  28.880         0       0   3866.85520                 0   \n",
       "\n",
       "   region_northwest  region_southeast  region_southwest  \n",
       "0                 0                 0                 1  \n",
       "1                 0                 1                 0  \n",
       "2                 0                 1                 0  \n",
       "3                 1                 0                 0  \n",
       "4                 1                 0                 0  "
      ]
     },
     "execution_count": 7,
     "metadata": {},
     "output_type": "execute_result"
    }
   ],
   "source": [
    "data.head()"
   ]
  },
  {
   "cell_type": "code",
   "execution_count": 8,
   "metadata": {},
   "outputs": [],
   "source": [
    "# Save preprocessed data:\n",
    "data.to_parquet(\"data/regression/insurance_preprocessed.parquet\", index = False)"
   ]
  }
 ],
 "metadata": {
  "kernelspec": {
   "display_name": ".venv",
   "language": "python",
   "name": "python3"
  },
  "language_info": {
   "codemirror_mode": {
    "name": "ipython",
    "version": 3
   },
   "file_extension": ".py",
   "mimetype": "text/x-python",
   "name": "python",
   "nbconvert_exporter": "python",
   "pygments_lexer": "ipython3",
   "version": "3.11.3"
  },
  "orig_nbformat": 4
 },
 "nbformat": 4,
 "nbformat_minor": 2
}
