{
 "cells": [
  {
   "cell_type": "markdown",
   "metadata": {},
   "source": [
    "# Non-Linear Program (NLP)\n",
    "\n",
    "$$\n",
    "\\begin{align*}\n",
    "\\text{min} \\quad & f(x, y) = \\sin(x_1) + \\log(x_2) + x_1^2 \\\\\n",
    "\\text{s.t.} \\quad & g_1(x, y) = e^{x_1} + x_2^3 \\leq 4 \\\\\n",
    "                  & x_1^2 + \\cos(x_2) \\leq 3 \\\\\n",
    "                  & x_1 + x_2 \\geq 1 \\\\\n",
    "                  & 0 \\leq x_1 \\leq 2 \\\\\n",
    "                  & 1 \\leq x_2 \\leq 4\n",
    "\\end{align*}\n",
    "$$\n"
   ]
  },
  {
   "cell_type": "markdown",
   "metadata": {},
   "source": [
    "## Scipy\n",
    "Using SLSQP"
   ]
  },
  {
   "cell_type": "code",
   "execution_count": 13,
   "metadata": {},
   "outputs": [
    {
     "name": "stdout",
     "output_type": "stream",
     "text": [
      "Optimal value: 0.0\n",
      "Optimal x1: 0.0\n",
      "Optimal x2: 1.0\n"
     ]
    }
   ],
   "source": [
    "import numpy as np\n",
    "from scipy.optimize import minimize\n",
    "\n",
    "# Define the objective function\n",
    "def objective(x):\n",
    "    return np.sin(x[0]) + np.log(x[1]) + x[0]**2\n",
    "\n",
    "# Define the constraints\n",
    "def constraint1(x):\n",
    "    return 4 - (np.exp(x[0]) + x[1]**3)\n",
    "\n",
    "def constraint2(x):\n",
    "    return 3 - (x[0]**2 + np.cos(x[1]))\n",
    "\n",
    "def constraint3(x):\n",
    "    return x[0] + x[1] - 1\n",
    "\n",
    "# Initial guess\n",
    "x0 = [1.0, 2.0]\n",
    "\n",
    "# Bounds\n",
    "bounds = [(0, 2), (1, 4)]\n",
    "\n",
    "# Constraints\n",
    "constraints = [\n",
    "    {'type': 'ineq', 'fun': constraint1},\n",
    "    {'type': 'ineq', 'fun': constraint2},\n",
    "    {'type': 'ineq', 'fun': constraint3}\n",
    "]\n",
    "\n",
    "# Solve the problem\n",
    "result = minimize(objective, x0, method='SLSQP', bounds=bounds, constraints=constraints)\n",
    "\n",
    "# Print the results with rounding\n",
    "if result.success:\n",
    "    print(f\"Optimal value: {round(result.fun, 4)}\")\n",
    "    print(f\"Optimal x1: {round(result.x[0], 4)}\")\n",
    "    print(f\"Optimal x2: {round(result.x[1], 4)}\")\n",
    "else:\n",
    "    print(\"The problem does not have an optimal solution.\")\n"
   ]
  },
  {
   "cell_type": "markdown",
   "metadata": {},
   "source": [
    "## Pyomo\n",
    "Using IPOPT"
   ]
  },
  {
   "cell_type": "code",
   "execution_count": 15,
   "metadata": {},
   "outputs": [
    {
     "name": "stdout",
     "output_type": "stream",
     "text": [
      "Optimal value: 0.0\n",
      "Optimal x1: 0.0\n",
      "Optimal x2: 1.0\n"
     ]
    }
   ],
   "source": [
    "from pyomo.environ import ConcreteModel, Var, Objective, Constraint, SolverFactory, sin, cos, exp, log\n",
    "\n",
    "# Create a model\n",
    "model = ConcreteModel()\n",
    "\n",
    "# Variable definition\n",
    "model.x1 = Var(bounds=(0, 2))\n",
    "model.x2 = Var(bounds=(1, 4))\n",
    "\n",
    "# Objective function\n",
    "model.obj = Objective(expr=sin(model.x1) + log(model.x2) + model.x1**2)\n",
    "\n",
    "# Constraints\n",
    "model.constraint1 = Constraint(expr=exp(model.x1) + model.x2**3 <= 4)\n",
    "model.constraint2 = Constraint(expr=model.x1**2 + cos(model.x2) <= 3)\n",
    "model.constraint3 = Constraint(expr=model.x1 + model.x2 >= 1)\n",
    "\n",
    "# Solver\n",
    "solver = SolverFactory('ipopt')\n",
    "result = solver.solve(model)\n",
    "\n",
    "# Print the results\n",
    "if result.solver.termination_condition == 'optimal':\n",
    "    print(f\"Optimal value: {model.obj()}\")\n",
    "    print(f\"Optimal x1: {model.x1()}\")\n",
    "    print(f\"Optimal x2: {model.x2()}\")\n",
    "else:\n",
    "    print(\"The problem does not have an optimal solution.\")\n"
   ]
  },
  {
   "cell_type": "code",
   "execution_count": 7,
   "metadata": {},
   "outputs": [
    {
     "name": "stdout",
     "output_type": "stream",
     "text": [
      "Optimal value: 0.0\n",
      "Optimal x1: 0.0\n",
      "Optimal x2: 1.0\n"
     ]
    }
   ],
   "source": [
    "from gekko import GEKKO\n",
    "\n",
    "# Initialize the model\n",
    "m = GEKKO()\n",
    "\n",
    "# Variable definition\n",
    "x1 = m.Var(value=1, lb=0, ub=2)\n",
    "x2 = m.Var(value=2, lb=1, ub=4)\n",
    "\n",
    "# Objective function\n",
    "m.Obj(m.sin(x1) + m.log(x2) + x1**2)\n",
    "\n",
    "# Constraints\n",
    "m.Equation(m.exp(x1) + x2**3 <= 4)\n",
    "m.Equation(x1**2 + m.cos(x2) <= 3)\n",
    "m.Equation(x1 + x2 >= 1)\n",
    "\n",
    "# Solve\n",
    "m.options.SOLVER = 1  # APOPT solver\n",
    "m.solve(disp=False)\n",
    "\n",
    "# Print the results\n",
    "print(f\"Optimal value: {m.options.objfcnval}\")\n",
    "print(f\"Optimal x1: {x1.value[0]}\")\n",
    "print(f\"Optimal x2: {x2.value[0]}\")\n"
   ]
  }
 ],
 "metadata": {
  "kernelspec": {
   "display_name": ".venv",
   "language": "python",
   "name": "python3"
  },
  "language_info": {
   "codemirror_mode": {
    "name": "ipython",
    "version": 3
   },
   "file_extension": ".py",
   "mimetype": "text/x-python",
   "name": "python",
   "nbconvert_exporter": "python",
   "pygments_lexer": "ipython3",
   "version": "3.12.3"
  }
 },
 "nbformat": 4,
 "nbformat_minor": 2
}
