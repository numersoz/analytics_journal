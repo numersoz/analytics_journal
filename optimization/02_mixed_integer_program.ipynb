{
 "cells": [
  {
   "cell_type": "markdown",
   "metadata": {},
   "source": [
    "# Mixed Integer Program (MIP)\n",
    "\n",
    "Reference: Reference: https://developers.google.com/optimization/lp/lp_example\n",
    "\\begin{align*}\n",
    "\\text{max} \\quad & x + 10y \\\\\n",
    "\\text{s.t.} \\quad & x + 7y \\leq 17.5 \\\\\n",
    "                  & 0 \\leq x \\leq 3.5 \\\\\n",
    "                  & 0 \\leq y \\\\\n",
    "                  & x, y \\text{ integers}\n",
    "\\end{align*}\n",
    "\n",
    "<div style=\"text-align: center;\">\n",
    "  <img src=\"https://developers.google.com/static/optimization/images/mip/feasible_region_sol.png\">\n",
    "</div>"
   ]
  },
  {
   "cell_type": "markdown",
   "metadata": {},
   "source": [
    "## SciPy"
   ]
  },
  {
   "cell_type": "code",
   "execution_count": 15,
   "metadata": {},
   "outputs": [
    {
     "name": "stdout",
     "output_type": "stream",
     "text": [
      "Optimal value: 23\n",
      "Optimal x: 3\n",
      "Optimal y: 2\n"
     ]
    }
   ],
   "source": [
    "from scipy.optimize import linprog\n",
    "import numpy as np\n",
    "\n",
    "# Objective function:\n",
    "c = [-1, -10]\n",
    "\n",
    "# Constraints:\n",
    "A = [[1, 7]]\n",
    "b = [17.5]\n",
    "x_bounds = (0, 3.5)\n",
    "y_bounds = (0, None)\n",
    "\n",
    "# Solve the relaxed problem (continuous)\n",
    "result = linprog(c, A_ub=A, b_ub=b, bounds=[x_bounds, y_bounds], method='highs')\n",
    "\n",
    "# If the relaxed problem has a solution, we need to check integer solutions:\n",
    "if result.success:\n",
    "    # Generate all possible integer pairs (x, y) within bounds\n",
    "    x_values = np.arange(0, 4)  # x can be 0, 1, 2, 3 (since 3.5 is non-integer)\n",
    "    y_values = np.arange(0, int(b[0]/7) + 1)\n",
    "    \n",
    "    best_value = -np.inf\n",
    "    best_solution = None\n",
    "    \n",
    "    for x in x_values:\n",
    "        for y in y_values:\n",
    "            if x + 7 * y <= 17.5:\n",
    "                value = x + 10 * y\n",
    "                if value > best_value:\n",
    "                    best_value = value\n",
    "                    best_solution = (x, y)\n",
    "    \n",
    "    if best_solution:\n",
    "        print(f\"Optimal value: {best_value}\")\n",
    "        print(f\"Optimal x: {best_solution[0]}\")\n",
    "        print(f\"Optimal y: {best_solution[1]}\")\n",
    "    else:\n",
    "        print(\"No feasible integer solution found.\")\n",
    "else:\n",
    "    print(\"The problem does not have an optimal solution.\")\n"
   ]
  },
  {
   "cell_type": "markdown",
   "metadata": {},
   "source": [
    "## CVXPY"
   ]
  },
  {
   "cell_type": "code",
   "execution_count": 16,
   "metadata": {},
   "outputs": [
    {
     "name": "stdout",
     "output_type": "stream",
     "text": [
      "Optimal value: 23.0\n",
      "Optimal x: 3.0\n",
      "Optimal y: 2.0\n"
     ]
    }
   ],
   "source": [
    "import cvxpy as cp\n",
    "\n",
    "# Variable Definition:\n",
    "x = cp.Variable(integer=True)\n",
    "y = cp.Variable(integer=True)\n",
    "\n",
    "# Objective Function:\n",
    "objective = cp.Maximize(x + 10 * y)\n",
    "\n",
    "# Constraints:\n",
    "constraints = [\n",
    "    x + 7 * y <= 17.5,\n",
    "    0 <= x,\n",
    "    x <= 3.5,\n",
    "    0 <= y\n",
    "]\n",
    "\n",
    "# Solve:\n",
    "problem = cp.Problem(objective, constraints)\n",
    "problem.solve()\n",
    "\n",
    "if problem.status == cp.OPTIMAL:\n",
    "    print(f\"Optimal value: {problem.value}\")\n",
    "    print(f\"Optimal x: {x.value}\")\n",
    "    print(f\"Optimal y: {y.value}\")\n",
    "else:\n",
    "    print(\"The problem does not have an optimal solution.\")\n"
   ]
  },
  {
   "cell_type": "markdown",
   "metadata": {},
   "source": [
    "## PuLP"
   ]
  },
  {
   "cell_type": "code",
   "execution_count": 17,
   "metadata": {},
   "outputs": [
    {
     "name": "stdout",
     "output_type": "stream",
     "text": [
      "Optimal value: 23.0\n",
      "Optimal x: 3.0\n",
      "Optimal y: 2.0\n"
     ]
    }
   ],
   "source": [
    "import pulp\n",
    "\n",
    "# Create a problem\n",
    "problem = pulp.LpProblem(\"Maximize_xy\", pulp.LpMaximize)\n",
    "\n",
    "# Variable Definition:\n",
    "x = pulp.LpVariable('x', lowBound=0, upBound=3.5, cat='Integer')\n",
    "y = pulp.LpVariable('y', lowBound=0, cat='Integer')\n",
    "\n",
    "# Objective Function:\n",
    "problem += x + 10 * y\n",
    "\n",
    "# Constraints:\n",
    "problem += x + 7 * y <= 17.5\n",
    "\n",
    "# Solve:\n",
    "status = problem.solve()\n",
    "\n",
    "if pulp.LpStatus[status] == 'Optimal':\n",
    "    print(f\"Optimal value: {pulp.value(problem.objective)}\")\n",
    "    print(f\"Optimal x: {pulp.value(x)}\")\n",
    "    print(f\"Optimal y: {pulp.value(y)}\")\n",
    "else:\n",
    "    print(\"The problem does not have an optimal solution.\")\n"
   ]
  },
  {
   "cell_type": "markdown",
   "metadata": {},
   "source": [
    "## Pyomo"
   ]
  },
  {
   "cell_type": "code",
   "execution_count": 18,
   "metadata": {},
   "outputs": [
    {
     "name": "stdout",
     "output_type": "stream",
     "text": [
      "Optimal value: 23.0\n",
      "Optimal x: 3.0\n",
      "Optimal y: 2.0\n"
     ]
    }
   ],
   "source": [
    "from pyomo.environ import ConcreteModel, Var, Objective, Constraint, SolverFactory, maximize, NonNegativeIntegers\n",
    "\n",
    "# Create a model\n",
    "model = ConcreteModel()\n",
    "\n",
    "# Variable Definition:\n",
    "model.x = Var(within=NonNegativeIntegers, bounds=(0, 3))\n",
    "model.y = Var(within=NonNegativeIntegers)\n",
    "\n",
    "# Objective Function:\n",
    "model.objective = Objective(expr=model.x + 10 * model.y, sense=maximize)\n",
    "\n",
    "# Constraints:\n",
    "model.constraint1 = Constraint(expr=model.x + 7 * model.y <= 17.5)\n",
    "\n",
    "# Solve:\n",
    "solver = SolverFactory('glpk')\n",
    "status = solver.solve(model)\n",
    "\n",
    "if (status.solver.termination_condition == 'optimal') or (status.solver.termination_condition == 'feasible'):\n",
    "    print(f\"Optimal value: {model.objective()}\")\n",
    "    print(f\"Optimal x: {model.x()}\")\n",
    "    print(f\"Optimal y: {model.y()}\")\n",
    "else:\n",
    "    print(\"The problem does not have an optimal solution.\")\n"
   ]
  },
  {
   "cell_type": "markdown",
   "metadata": {},
   "source": [
    "## Google OR-Tools"
   ]
  },
  {
   "cell_type": "code",
   "execution_count": 19,
   "metadata": {},
   "outputs": [
    {
     "name": "stdout",
     "output_type": "stream",
     "text": [
      "Optimal value: 23.0\n",
      "Optimal x: 3.0\n",
      "Optimal y: 2.0\n"
     ]
    }
   ],
   "source": [
    "from ortools.linear_solver import pywraplp\n",
    "\n",
    "# Create a solver\n",
    "solver = pywraplp.Solver.CreateSolver('SCIP')\n",
    "\n",
    "# Variable Definition:\n",
    "x = solver.IntVar(0, 3.5, 'x')\n",
    "y = solver.IntVar(0, solver.infinity(), 'y')\n",
    "\n",
    "# Objective Function:\n",
    "solver.Maximize(x + 10 * y)\n",
    "\n",
    "# Constraints:\n",
    "solver.Add(x + 7 * y <= 17.5)\n",
    "\n",
    "# Solve:\n",
    "status = solver.Solve()\n",
    "\n",
    "if status == pywraplp.Solver.OPTIMAL:\n",
    "    print(f\"Optimal value: {solver.Objective().Value()}\")\n",
    "    print(f\"Optimal x: {x.solution_value()}\")\n",
    "    print(f\"Optimal y: {y.solution_value()}\")\n",
    "else:\n",
    "    print(\"The problem does not have an optimal solution.\")\n"
   ]
  },
  {
   "cell_type": "markdown",
   "metadata": {},
   "source": [
    "## Gekko"
   ]
  },
  {
   "cell_type": "code",
   "execution_count": 20,
   "metadata": {},
   "outputs": [
    {
     "name": "stdout",
     "output_type": "stream",
     "text": [
      "Optimal value: 23.0\n",
      "Optimal x: 3.0\n",
      "Optimal y: 2.0\n"
     ]
    }
   ],
   "source": [
    "from gekko import GEKKO\n",
    "\n",
    "# Create a model\n",
    "m = GEKKO()\n",
    "\n",
    "# Variable Definition:\n",
    "x = m.Var(value=0, lb=0, ub=3.5, integer=True)\n",
    "y = m.Var(value=0, lb=0, integer=True)\n",
    "\n",
    "# Objective Function:\n",
    "m.Maximize(x + 10 * y)\n",
    "\n",
    "# Constraints:\n",
    "m.Equation(x + 7 * y <= 17.5)\n",
    "\n",
    "# Solve:\n",
    "m.options.SOLVER = 1\n",
    "m.solve(disp=False)\n",
    "\n",
    "print(f\"Optimal value: {m.options.objfcnval * -1}\")\n",
    "print(f\"Optimal x: {x.value[0]}\")\n",
    "print(f\"Optimal y: {y.value[0]}\")\n"
   ]
  }
 ],
 "metadata": {
  "kernelspec": {
   "display_name": ".venv",
   "language": "python",
   "name": "python3"
  },
  "language_info": {
   "codemirror_mode": {
    "name": "ipython",
    "version": 3
   },
   "file_extension": ".py",
   "mimetype": "text/x-python",
   "name": "python",
   "nbconvert_exporter": "python",
   "pygments_lexer": "ipython3",
   "version": "3.12.3"
  }
 },
 "nbformat": 4,
 "nbformat_minor": 2
}
