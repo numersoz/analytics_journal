{
 "cells": [
  {
   "cell_type": "markdown",
   "metadata": {},
   "source": [
    "$$\n",
    "\\begin{aligned}\n",
    "\\text{min} \\quad & f(x, y) = \\cos(x_1) + \\sqrt{x_2} + y_1^2 \\\\\n",
    "\\text{s.t.} \\quad & g_1(x, y) = x_1^2 + e^{x_2} + y_2 \\leq 5 \\\\\n",
    "                  & x_1^3 + \\sin(x_2) + y_1 \\leq 2 \\\\\n",
    "                  & x_1 + x_2 + y_2 \\geq 3 \\\\\n",
    "                  & 0 \\leq x_1 \\leq 3 \\\\\n",
    "                  & 1 \\leq x_2 \\leq 5 \\\\\n",
    "                  & y_1 \\in \\{0, 1\\} \\\\\n",
    "                  & y_2 \\in \\{1, 2, 3\\}\n",
    "\\end{aligned}\n",
    "$$"
   ]
  },
  {
   "cell_type": "markdown",
   "metadata": {},
   "source": [
    "## SciPy\n",
    "Can not solve MINLP"
   ]
  },
  {
   "cell_type": "markdown",
   "metadata": {},
   "source": [
    "## CVXPY\n",
    "Can not solve MINLP"
   ]
  },
  {
   "cell_type": "markdown",
   "metadata": {},
   "source": [
    "## PuLP\n",
    "Can not solve MINLP"
   ]
  },
  {
   "cell_type": "markdown",
   "metadata": {},
   "source": [
    "## Pyomo\n",
    "Using SCIP"
   ]
  },
  {
   "cell_type": "code",
   "execution_count": 12,
   "metadata": {},
   "outputs": [
    {
     "name": "stdout",
     "output_type": "stream",
     "text": [
      "Optimal value: 1.4973340007278888\n",
      "Optimal x1: 1.050273255987699\n",
      "Optimal x2: 1.0\n",
      "Optimal y1: -0.0\n",
      "Optimal y2: 1.0\n"
     ]
    }
   ],
   "source": [
    "from pyomo.environ import ConcreteModel, Var, Objective, Constraint, SolverFactory, cos, sqrt, sin, exp, Binary, RangeSet, minimize, TerminationCondition\n",
    "\n",
    "# Create a model:\n",
    "model = ConcreteModel()\n",
    "\n",
    "# Variable definition:\n",
    "model.x1 = Var(bounds=(0, 3))\n",
    "model.x2 = Var(bounds=(1, 5))\n",
    "model.y1 = Var(within=Binary)\n",
    "model.y2 = Var(within=RangeSet(1, 3))\n",
    "\n",
    "# Objective function:\n",
    "model.obj = Objective(expr=cos(model.x1) + sqrt(model.x2) + model.y1**2, sense=minimize)\n",
    "\n",
    "# Constraints:\n",
    "model.con1 = Constraint(expr=model.x1**2 + exp(model.x2) + model.y2 <= 5)\n",
    "model.con2 = Constraint(expr=model.x1**3 + sin(model.x2) + model.y1 <= 2)\n",
    "model.con3 = Constraint(expr=model.x1 + model.x2 + model.y2 >= 3)\n",
    "\n",
    "# Solver:\n",
    "solver = SolverFactory('scip')\n",
    "result = solver.solve(model)\n",
    "\n",
    "if result.solver.termination_condition == TerminationCondition.optimal:\n",
    "    print(f\"Optimal value: {model.obj()}\")\n",
    "    print(f\"Optimal x1: {model.x1()}\")\n",
    "    print(f\"Optimal x2: {model.x2()}\")\n",
    "    print(f\"Optimal y1: {model.y1()}\")\n",
    "    print(f\"Optimal y2: {model.y2()}\")\n",
    "else:\n",
    "    print(\"The problem does not have an optimal solution.\")\n"
   ]
  },
  {
   "cell_type": "markdown",
   "metadata": {},
   "source": [
    "## Google OR-Tools\n",
    "Can not solve MINLP"
   ]
  },
  {
   "cell_type": "markdown",
   "metadata": {},
   "source": [
    "# Gekko"
   ]
  },
  {
   "cell_type": "code",
   "execution_count": 7,
   "metadata": {},
   "outputs": [
    {
     "name": "stdout",
     "output_type": "stream",
     "text": [
      "Optimal value: 1.4973339978\n",
      "Optimal x1: 1.0502732593\n",
      "Optimal x2: 1.0\n",
      "Optimal y1: 0.0\n",
      "Optimal y2: 1.1046121121\n"
     ]
    }
   ],
   "source": [
    "from gekko import GEKKO\n",
    "\n",
    "# Initialize model:\n",
    "m = GEKKO(remote=False)\n",
    "\n",
    "# Variable definition:\n",
    "x1 = m.Var(value=0, lb=0, ub=3)\n",
    "x2 = m.Var(value=1, lb=1, ub=5)\n",
    "y1 = m.Var(value=0, lb=0, ub=1, integer=True)\n",
    "y2 = m.Var(value=1, lb=1, ub=3, integer=True)\n",
    "\n",
    "# Objective function:\n",
    "m.Obj(m.cos(x1) + m.sqrt(x2) + y1**2)\n",
    "\n",
    "# Constraints:\n",
    "m.Equation(x1**2 + m.exp(x2) + y2 <= 5)\n",
    "m.Equation(x1**3 + m.sin(x2) + y1 <= 2)\n",
    "m.Equation(x1 + x2 + y2 >= 3)\n",
    "\n",
    "# Solve:\n",
    "m.solve(disp=False)\n",
    "\n",
    "# Results:\n",
    "print(f\"Optimal value: {m.options.objfcnval}\")\n",
    "print(f\"Optimal x1: {x1.value[0]}\")\n",
    "print(f\"Optimal x2: {x2.value[0]}\")\n",
    "print(f\"Optimal y1: {y1.value[0]}\")\n",
    "print(f\"Optimal y2: {y2.value[0]}\")\n"
   ]
  }
 ],
 "metadata": {
  "kernelspec": {
   "display_name": ".venv",
   "language": "python",
   "name": "python3"
  },
  "language_info": {
   "codemirror_mode": {
    "name": "ipython",
    "version": 3
   },
   "file_extension": ".py",
   "mimetype": "text/x-python",
   "name": "python",
   "nbconvert_exporter": "python",
   "pygments_lexer": "ipython3",
   "version": "3.12.3"
  }
 },
 "nbformat": 4,
 "nbformat_minor": 2
}
