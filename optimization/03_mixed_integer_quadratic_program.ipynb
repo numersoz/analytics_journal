{
 "cells": [
  {
   "cell_type": "markdown",
   "metadata": {},
   "source": [
    "# Mixed Integer Quadratic Program (MIQP)\n",
    "\n",
    "\\begin{align*}\n",
    "\\text{min} \\quad & f(x, y) = x_1^2 + 2x_2^2 + 3y_1 + y_2 \\\\\n",
    "\\text{s.t.} \\quad & g_1(x, y) = x_1^2 + x_2^2 - y_1 \\leq 1 \\\\\n",
    "                  & x_1 + 2x_2 + y_2 \\leq 3 \\\\\n",
    "                  & x_1 - x_2 \\geq 1 \\\\\n",
    "                  & 0 \\leq x_1 \\leq 2 \\\\\n",
    "                  & 0 \\leq x_2 \\leq 2 \\\\\n",
    "                  & y_1 \\in \\{0, 1\\} \\\\\n",
    "                  & y_2 \\in \\{0, 1\\}\n",
    "\\end{align*}"
   ]
  },
  {
   "cell_type": "markdown",
   "metadata": {},
   "source": [
    "## SciPy\n",
    "Can not solve MIQP"
   ]
  },
  {
   "cell_type": "markdown",
   "metadata": {},
   "source": [
    "## CVXPY\n",
    "Using CPLEX solver"
   ]
  },
  {
   "cell_type": "code",
   "execution_count": 1,
   "metadata": {},
   "outputs": [
    {
     "name": "stdout",
     "output_type": "stream",
     "text": [
      "Optimal value: 1.0\n",
      "Optimal variables: x1 = 1.0 , x2 = -0.0 , y1 = -0.0 , y2 = 0.0\n"
     ]
    }
   ],
   "source": [
    "import cvxpy as cp\n",
    "\n",
    "# Variable Definition:\n",
    "x1 = cp.Variable()\n",
    "x2 = cp.Variable()\n",
    "y1 = cp.Variable(boolean=True)\n",
    "y2 = cp.Variable(boolean=True)\n",
    "\n",
    "# Objective Function:\n",
    "objective = cp.Minimize(x1**2 + 2*x2**2 + 3*y1 + y2)\n",
    "\n",
    "# Constraints:\n",
    "constraints = [\n",
    "    x1**2 + x2**2 - y1 <= 1,\n",
    "    x1 + 2*x2 + y2 <= 3,\n",
    "    x1 - x2 >= 1,\n",
    "    0 <= x1, x1 <= 2,\n",
    "    0 <= x2, x2 <= 2\n",
    "]\n",
    "\n",
    "# Problem Definition:\n",
    "problem = cp.Problem(objective, constraints)\n",
    "\n",
    "# Solve\n",
    "problem.solve(solver=cp.CPLEX)\n",
    "\n",
    "if problem.status == cp.OPTIMAL:\n",
    "    print(\"Optimal value:\", problem.value)\n",
    "    print(\"Optimal variables: x1 =\", x1.value, \", x2 =\", x2.value, \", y1 =\", y1.value, \", y2 =\", y2.value)\n",
    "else:\n",
    "    print(\"The problem does not have an optimal solution.\")\n"
   ]
  },
  {
   "cell_type": "markdown",
   "metadata": {},
   "source": [
    "## PuLP\n",
    "Can not solve MIQP"
   ]
  },
  {
   "cell_type": "markdown",
   "metadata": {},
   "source": [
    "## Pyomo\n",
    "Using CPLEX solver"
   ]
  },
  {
   "cell_type": "code",
   "execution_count": null,
   "metadata": {},
   "outputs": [
    {
     "name": "stdout",
     "output_type": "stream",
     "text": [
      "Optimal value: 1.0\n",
      "Optimal x1: 1.0\n",
      "Optimal x2: 0.0\n",
      "Optimal y1: -0.0\n",
      "Optimal y2: 0.0\n"
     ]
    }
   ],
   "source": [
    "from pyomo.environ import *\n",
    "\n",
    "# Create a model:\n",
    "model = ConcreteModel()\n",
    "\n",
    "# Variable Definition:\n",
    "model.x1 = Var(bounds=(0, 2))\n",
    "model.x2 = Var(bounds=(0, 2))\n",
    "model.y1 = Var(domain=Binary)\n",
    "model.y2 = Var(domain=Binary)\n",
    "\n",
    "# Objective Function:\n",
    "model.obj = Objective(expr=model.x1**2 + 2*model.x2**2 + 3*model.y1 + model.y2, sense=minimize)\n",
    "\n",
    "# Constraints:\n",
    "model.constraint1 = Constraint(expr=model.x1**2 + model.x2**2 - model.y1 <= 1)\n",
    "model.constraint2 = Constraint(expr=model.x1 + 2*model.x2 + model.y2 <= 3)\n",
    "model.constraint3 = Constraint(expr=model.x1 - model.x2 >= 1)\n",
    "\n",
    "# Solve:\n",
    "solver = SolverFactory('cplex')\n",
    "result = solver.solve(model, tee=False)\n",
    "\n",
    "if result.solver.status == SolverStatus.ok and result.solver.termination_condition == TerminationCondition.optimal:\n",
    "    print(f\"Optimal value: {model.obj()}\")\n",
    "    print(f\"Optimal x1: {model.x1()}\")\n",
    "    print(f\"Optimal x2: {model.x2()}\")\n",
    "    print(f\"Optimal y1: {model.y1()}\")\n",
    "    print(f\"Optimal y2: {model.y2()}\")\n",
    "else:\n",
    "    print(\"The problem does not have an optimal solution.\")\n"
   ]
  },
  {
   "cell_type": "markdown",
   "metadata": {},
   "source": [
    "## Gekko"
   ]
  },
  {
   "cell_type": "code",
   "execution_count": null,
   "metadata": {},
   "outputs": [
    {
     "name": "stdout",
     "output_type": "stream",
     "text": [
      "Optimal value: 1.0\n",
      "Optimal x1: 1.0\n",
      "Optimal x2: 0.0\n",
      "Optimal y1: 0.0\n",
      "Optimal y2: 0.0\n"
     ]
    }
   ],
   "source": [
    "from gekko import GEKKO\n",
    "\n",
    "# Create a model:\n",
    "m = GEKKO(remote=False)\n",
    "\n",
    "# Variable Definition:\n",
    "x1 = m.Var(value=0, lb=0, ub=2)\n",
    "x2 = m.Var(value=0, lb=0, ub=2)\n",
    "y1 = m.Var(value=0, lb=0, ub=1, integer=True)\n",
    "y2 = m.Var(value=0, lb=0, ub=1, integer=True)\n",
    "\n",
    "# Objective Function:\n",
    "m.Obj(x1**2 + 2*x2**2 + 3*y1 + y2)\n",
    "\n",
    "# Constraints:\n",
    "m.Equation(x1**2 + x2**2 - y1 <= 1)\n",
    "m.Equation(x1 + 2*x2 + y2 <= 3)\n",
    "m.Equation(x1 - x2 >= 1)\n",
    "\n",
    "# Solve:\n",
    "m.options.SOLVER = 1  # APOPT solver\n",
    "m.solve(disp=False)\n",
    "\n",
    "print(f\"Optimal value: {m.options.objfcnval}\")\n",
    "print(f\"Optimal x1: {x1.value[0]}\")\n",
    "print(f\"Optimal x2: {x2.value[0]}\")\n",
    "print(f\"Optimal y1: {y1.value[0]}\")\n",
    "print(f\"Optimal y2: {y2.value[0]}\")\n"
   ]
  }
 ],
 "metadata": {
  "kernelspec": {
   "display_name": ".venv",
   "language": "python",
   "name": "python3"
  },
  "language_info": {
   "codemirror_mode": {
    "name": "ipython",
    "version": 3
   },
   "file_extension": ".py",
   "mimetype": "text/x-python",
   "name": "python",
   "nbconvert_exporter": "python",
   "pygments_lexer": "ipython3",
   "version": "3.10.11"
  }
 },
 "nbformat": 4,
 "nbformat_minor": 2
}
